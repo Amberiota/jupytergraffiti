{
 "cells": [
  {
   "cell_type": "markdown",
   "metadata": {
    "graffitiCellId": "id_jkwtdmu"
   },
   "source": [
    "# Jupyter Graffiti\n",
    "\n",
    "What can Jupyter Graffiti do? You can:\n",
    "\n",
    "* Highlight What's Important\n",
    "* Diagram and demonstrate complex concepts\n",
    "\n",
    "\n",
    "Below, we will walk you through all the things you can do with it!\n",
    "<br><br>\n",
    "\n",
    "\n",
    "<div style=\"background: url(./images/pythagoras3.png);background-size:;100% 300px';color:white;  border:1px dotted #bbb;  width:100%;  display:flex;  height: 300px;  display: block;  position: relative;\">\n",
    "<div style=\" font-size:32px;  line-height:42px;  padding-top:20px;  margin-left:10px;\">\n",
    "The Pythagorean Theorem<br><br>\n",
    "<span class=\"graffiti-highlight graffiti-id_jkwtdmu-id_uqohunm\"><i></i><span style=\"border:3px solid white;padding:15px;margin-top:50px;cursor:pointer\">$c = \\sqrt{a^2 + b^2}$</span></span>\n",
    " </div>\n",
    "</div>\n",
    "\n",
    "\n",
    "\n"
   ]
  },
  {
   "cell_type": "code",
   "execution_count": null,
   "metadata": {
    "collapsed": true,
    "graffitiCellId": "id_uzakr5u"
   },
   "outputs": [],
   "source": [
    "import math\n",
    "def calculate_hypotenuse(leg1,leg2):\n",
    "    c = math.sqrt(math.pow(leg1,2) + math.pow(leg2,2))\n",
    "    return (c)\n",
    "\n",
    "print (calculate_hypotenuse(7,4))\n"
   ]
  },
  {
   "cell_type": "markdown",
   "metadata": {
    "graffitiCellId": "id_jlgtu72"
   },
   "source": [
    "### Use Graffiti to show how to solve student challenges\n",
    "You can create buttons and images that trigger recording playback. For example:\n",
    "<br/><br/>"
   ]
  },
  {
   "cell_type": "markdown",
   "metadata": {
    "graffitiCellId": "id_g156aer"
   },
   "source": [
    "Can you write a python function that, given one leg and the hypotenuse of a right triangle, can compute the length of the other leg?"
   ]
  },
  {
   "cell_type": "code",
   "execution_count": null,
   "metadata": {
    "collapsed": true,
    "graffitiCellId": "id_uxzlfls"
   },
   "outputs": [],
   "source": [
    "def compute_other_leg(a,c):\n",
    "    # your code here\n",
    "    \n",
    "print (compute_other_leg(3,5))"
   ]
  },
  {
   "cell_type": "markdown",
   "metadata": {
    "graffitiCellId": "id_u811sn1"
   },
   "source": [
    "<span class=\"graffiti-highlight graffiti-id_u811sn1-id_6u0btcu\"><i></i><button class=\"btn btn-default\" title=\"Show me\">Show me how to solve this!</button></span>"
   ]
  },
  {
   "cell_type": "markdown",
   "metadata": {
    "graffitiCellId": "id_q9d7tjp"
   },
   "source": [
    "## Activating Graffiti in Notebooks / Creating Your First Graffiti"
   ]
  },
  {
   "cell_type": "markdown",
   "metadata": {
    "graffitiCellId": "id_ftg0m0z"
   },
   "source": [
    "Well this is nice, you say, but how do I create my own Graffiti?\n",
    "\n",
    "Any notebook in Coco can have Graffitis. Just click the \"Activate Graffiti\" button in the menu bar area.\n",
    "\n",
    "<img src=\"images/tutorial/activateGraffiti.png\" style=\"width:60%\"/>\n",
    "\n",
    "You will be asked to Confirm:\n",
    "\n",
    "<img src=\"images/tutorial/activateGraffitiConfirm.png\" style=\"width:60%\"/>\n",
    "\n",
    "If this is the first notebook in the current concept you've activated Graffiti on, the browser will also ask you to grant access to your <span class=\"graffiti-highlight graffiti-id_ftg0m0z-id_16j5jqa\"><i></i>microphone</span>. **You must do this** or Graffiti audio will not record.\n",
    "\n",
    "Once Graffiti has been activated, you will now see a button in the toolbar to show and hide the Graffiti Editor control panel:\n",
    "\n",
    "<img src=\"images/tutorial/showGraffiti.png\" style=\"width:60%\"/>\n",
    "\n",
    "Clicking this button will show the editor. \n",
    "\n",
    "<img src=\"images/tutorial/graffitiControlPanel.png\" style=\"width:60%\"/>\n",
    "\n",
    "\n",
    "At this point you can select any text in a code cell, or edit a markdown cell, and select some text in it. Then, the Control panel will show the Create button for creating a Graffiti:\n",
    "\n",
    "<img src=\"images/tutorial/clickCreate.png\" style=\"width:60%\"/>\n",
    "\n",
    "In the example above, we're adding a Graffiti that will show up near the word \"print\" in the code cell.\n",
    "\n",
    "Enter whatever you want to show up in the tip, in the temporary markdown cell that appears when you clicked the \"Create\" button:\n",
    "\n",
    "<img src=\"images/tutorial/enteringMarkdown.png\" style=\"width:60%\"/>\n",
    "\n",
    "Full markdown is supported and will be rendered inside the tip. In this example we used markdown around the word \"print\" in the tip to show that it is a python keyword.\n",
    "\n",
    "Now just click \"Save Graffiti\" or run the temporary cell to accept the tip contents. Now when you mouse over the word \"print\" in the code cell you'll see your new Graffiti tip:\n",
    "\n",
    "<img src=\"images/tutorial/tipProduced.png\" style=\"width:60%\"/>\n",
    "\n",
    "Now it's time to make a recording. When you click inside the Graffiti'd text in your code cell, you can add a recorded movie by clicking the \"Record\" button on the control panel. You'll be prompted to start your recording by clicking anywhere _inside_ your notebook content. After that point, everything you say and do will be recorded in the movie for later playback by others. We record mouse movements, typing, and all the drawing you might like to do using the drawing tools in the control panel.  None of the things you do will last beyond the recording, however, and we will restore the notebook to the state it was in when you began the recording, after you click \"End Recording\".\n",
    "\n",
    "<img src=\"images/tutorial/makingRecording.png\" style=\"width:60%\"/>"
   ]
  },
  {
   "cell_type": "markdown",
   "metadata": {
    "graffitiCellId": "id_svkd4a4"
   },
   "source": [
    "# Special Graffiti Tip Enhancements"
   ]
  },
  {
   "cell_type": "markdown",
   "metadata": {
    "graffitiCellId": "id_2wzqgnl"
   },
   "source": [
    "Inside the Graffiti tips, you can add special commands to enhance the experience of the Graffiti and its recording. These commands can modify both the tip appearance and recording playback behavior.  Try hover over this line to see an example.\n",
    "\n",
    "Here is a list of commands you can insert into a Graffiti. Each command must be on a line by itself and is preceded by the special marker `%%`.  (Any line that starts with `%% ` or `%%comment ` is a comment and will not be displayed in the tooltip or used to control your Graffiti)\n",
    "\n",
    "`%%comment` -- a comment\n",
    "\n",
    "`%%button_name button_name`  -- the value you want to use in the button that displays in a tip to play the recording.\n",
    "\n"
   ]
  }
 ],
 "metadata": {
  "graffiti": {
   "firstAuthorId": "id_v045xlu",
   "id": "id_ukt9m5j"
  },
  "graffitiId": "id_ah65j3x",
  "kernelspec": {
   "display_name": "Python 3",
   "language": "python",
   "name": "python3"
  },
  "language_info": {
   "codemirror_mode": {
    "name": "ipython",
    "version": 3
   },
   "file_extension": ".py",
   "mimetype": "text/x-python",
   "name": "python",
   "nbconvert_exporter": "python",
   "pygments_lexer": "ipython3",
   "version": "3.6.1"
  }
 },
 "nbformat": 4,
 "nbformat_minor": 2
}
