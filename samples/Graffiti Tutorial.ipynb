{
 "cells": [
  {
   "cell_type": "markdown",
   "metadata": {
    "graffitiCellId": "id_jkwtdmu"
   },
   "source": [
    "# Jupyter Graffiti\n",
    "\n",
    "What can Jupyter Graffiti do? You can:\n",
    "\n",
    "* Highlight What's Important\n",
    "* Diagram and demonstrate complex concepts\n",
    "\n",
    "\n",
    "Below, we will walk you through <span class=\"graffiti-highlight graffiti-id_jkwtdmu-id_w1vmkth\"><i></i>all the things</span> you can do with it!\n",
    "<br><br>\n",
    "\n",
    "\n",
    "<div style=\"background: url(./images/pythagoras3.png);background-size:;100% 300px';color:white;  border:1px dotted #bbb;  width:100%;  display:flex;  height: 300px;  display: block;  position: relative;\">\n",
    "<div style=\" font-size:32px;  line-height:42px;  padding-top:20px;  margin-left:10px;\">\n",
    "The Pythagorean Theorem<br>\n",
    "$c = \\sqrt{a^2 + b^2}$\n",
    " </div>\n",
    "</div>\n",
    "\n",
    "\n",
    "\n"
   ]
  },
  {
   "cell_type": "code",
   "execution_count": null,
   "metadata": {
    "collapsed": true,
    "graffitiCellId": "id_uzakr5u"
   },
   "outputs": [],
   "source": [
    "import math\n",
    "def calculate_hypotenuse(a,b):\n",
    "    c = math.sqrt(math.pow(a,2) + math.pow(b,2))\n",
    "    return (c)\n",
    "\n",
    "print (calculate_hypotenuse(3,4))"
   ]
  },
  {
   "cell_type": "markdown",
   "metadata": {
    "graffitiCellId": "id_jlgtu72"
   },
   "source": [
    "### Use Graffiti to show how to solve student challenges\n",
    "You can create buttons and images that trigger recording playback. For example:\n",
    "<br/><br/>"
   ]
  },
  {
   "cell_type": "markdown",
   "metadata": {
    "graffitiCellId": "id_g156aer"
   },
   "source": [
    "Can you write a python function that, given one leg and the hypotenuse of a right triangle, can compute the length of the other leg?"
   ]
  },
  {
   "cell_type": "code",
   "execution_count": null,
   "metadata": {
    "collapsed": true,
    "graffitiCellId": "id_uxzlfls"
   },
   "outputs": [],
   "source": [
    "def compute_other_leg(a,c):\n",
    "    # your code here\n",
    "    \n",
    "print (compute_other_leg(3,5))"
   ]
  },
  {
   "cell_type": "markdown",
   "metadata": {
    "graffitiCellId": "id_u811sn1"
   },
   "source": [
    "<span class=\"graffiti-highlight graffiti-id_u811sn1-id_fw63qxu\"><i></i><button class=\"btn btn-default\" title=\"Show me\">Show me how to solve this!</button></span>"
   ]
  },
  {
   "cell_type": "markdown",
   "metadata": {
    "graffitiCellId": "id_q9d7tjp"
   },
   "source": [
    "## Activating Graffiti in Notebooks / Creating Your First Graffiti"
   ]
  },
  {
   "cell_type": "markdown",
   "metadata": {
    "graffitiCellId": "id_ftg0m0z"
   },
   "source": [
    "Well this is nice, you say, but how do I create my own <span class=\"graffiti-highlight graffiti-id_ftg0m0z-id_hdgl1nl\"><i></i>Graffiti</span>?\n",
    "\n",
    "Any notebook in Coco can have Graffitis. Just click the \"Activate Graffiti\" button in the menu bar area.\n",
    "\n",
    "<img src=\"images/activate_graffiti.png\" />\n",
    "\n",
    "Once the Graffiti has been activated, to start creating Graffitis just click:\n",
    "\n",
    "<img src=\"images/show_graffiti_editor.png\">\n",
    "\n",
    "This will reveal the Graffiti Control Panel. At this point you can select any text in a code cell or edit a markdown cell and select some text in it. Then, the Control panel will show the Create button for creating a Graffiti:\n",
    "\n",
    "\n"
   ]
  }
 ],
 "metadata": {
  "graffitiId": "id_ah65j3x",
  "kernelspec": {
   "display_name": "Python 3",
   "language": "python",
   "name": "python3"
  },
  "language_info": {
   "codemirror_mode": {
    "name": "ipython",
    "version": 3
   },
   "file_extension": ".py",
   "mimetype": "text/x-python",
   "name": "python",
   "nbconvert_exporter": "python",
   "pygments_lexer": "ipython3",
   "version": "3.6.1"
  }
 },
 "nbformat": 4,
 "nbformat_minor": 2
}
