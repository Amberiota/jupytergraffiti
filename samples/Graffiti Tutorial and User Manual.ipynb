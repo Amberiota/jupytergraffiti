{
 "cells": [
  {
   "cell_type": "markdown",
   "metadata": {
    "graffitiCellId": "id_jkwtdmu"
   },
   "source": [
    "# Jupyter Graffiti\n",
    "\n",
    "What can Jupyter Graffiti do? You can:\n",
    "\n",
    "* Highlight What's Important\n",
    "* Diagram and demonstrate complex concepts\n",
    "\n",
    "\n",
    "Below, we will walk you through all the things you can do with it!\n",
    "<br><br>\n",
    "\n",
    "\n",
    "<div style=\"background: url(./images/tutorial/pythagoras3.png);background-size:;100% 300px';color:white;  border:1px dotted #bbb;  width:100%;  display:flex;  height: 300px;  display: block;  position: relative;\">\n",
    "<div style=\" font-size:32px;  line-height:42px;  padding-top:20px;  margin-left:10px;\">\n",
    "The Pythagorean Theorem<br><br>\n",
    "<span style=\"border:3px solid white;padding:15px;margin-top:50px;cursor:pointer\"><span class=\"graffiti-highlight graffiti-id_jkwtdmu-id_vw396uc\"><i></i>$c = \\sqrt{a^2 + b^2}$</span></span>\n",
    " </div>\n",
    "</div>\n",
    "\n",
    "\n",
    "\n"
   ]
  },
  {
   "cell_type": "code",
   "execution_count": null,
   "metadata": {
    "collapsed": true,
    "graffitiCellId": "id_uzakr5u"
   },
   "outputs": [],
   "source": [
    "import math\n",
    "def calculate_hypotenuse(a,b):\n",
    "    c = math.sqrt(math.pow(a,2) + math.pow(b,2))\n",
    "    return (c)\n",
    "\n",
    "print (calculate_hypotenuse(3,4))"
   ]
  },
  {
   "cell_type": "markdown",
   "metadata": {
    "graffitiCellId": "id_jlgtu72"
   },
   "source": [
    "### Use Graffiti to show how to solve student challenges\n",
    "You can create buttons and images that trigger recording playback. For example:\n",
    "<br/><br/>"
   ]
  },
  {
   "cell_type": "markdown",
   "metadata": {
    "graffitiCellId": "id_g156aer"
   },
   "source": [
    "_Can you write a <span class=\"graffiti-highlight graffiti-id_g156aer-id_r9qyr18\"><i></i>python</span> function that, given one leg and the hypotenuse of a right triangle, can compute the length of the other leg?_"
   ]
  },
  {
   "cell_type": "code",
   "execution_count": null,
   "metadata": {
    "collapsed": true,
    "graffitiCellId": "id_uxzlfls"
   },
   "outputs": [],
   "source": [
    "def compute_other_leg(a,c):\n",
    "    # your code here\n",
    "    \n",
    "print (compute_other_leg(3,5))"
   ]
  },
  {
   "cell_type": "code",
   "execution_count": null,
   "metadata": {
    "collapsed": true,
    "graffitiCellId": "id_xzem0oq"
   },
   "outputs": [],
   "source": [
    "def compute_other_leg(a,c)"
   ]
  },
  {
   "cell_type": "markdown",
   "metadata": {
    "graffitiCellId": "id_u811sn1"
   },
   "source": [
    "<span class=\"graffiti-highlight graffiti-id_u811sn1-id_6u0btcu\"><i></i><button class=\"btn btn-default\" title=\"Show me\">Show me how to solve this!</button></span>"
   ]
  },
  {
   "cell_type": "markdown",
   "metadata": {
    "graffitiCellId": "id_y6wo67v"
   },
   "source": [
    "<span class=\"graffiti-highlight graffiti-id_y6wo67v-id_l5liyf0\"><i></i>Show me how</span> I can make buttons like the example above."
   ]
  },
  {
   "cell_type": "code",
   "execution_count": null,
   "metadata": {
    "collapsed": true,
    "graffitiCellId": "id_laosb3c"
   },
   "outputs": [],
   "source": [
    "<button class=\"btn btn-default\" title=\"Show me\">Show me how to solve this!</button>"
   ]
  },
  {
   "cell_type": "markdown",
   "metadata": {
    "graffitiCellId": "id_q9d7tjp"
   },
   "source": [
    "## Activating Graffiti in Notebooks and Creating Graffiti"
   ]
  },
  {
   "cell_type": "markdown",
   "metadata": {
    "graffitiCellId": "id_6hgfab4"
   },
   "source": [
    "Well that's all very nice, you might say, but... how do I create my own Graffiti?"
   ]
  },
  {
   "cell_type": "markdown",
   "metadata": {
    "graffitiCellId": "id_gwreog8"
   },
   "source": [
    "First off, you'll need a Jupyter Workspace with Graffiti software installed. As of Dec 4, 2018, you'll need to follow these steps to create one. (Note: these steps will change in the next few weeks as we roll out Graffiti more generally.)\n",
    "\n",
    "Click the Workspace atom icon:\n",
    "\n",
    "<img src=\"images/tutorial/addWorkspace0.png\" style=\"width:60%;border:1px solid grey\"/>\n",
    "\n",
    "Now choose Create a new Workspace:\n",
    "\n",
    "<img src=\"images/tutorial/addWorkspace1.png\" style=\"width:60%\"/>\n",
    "\n",
    "Now make sure you choose the Graffiti Workspace images pool:\n",
    "\n",
    "<img src=\"images/tutorial/addWorkspace2.png\" style=\"width:60%\"/>\n",
    "\n",
    "Then choose the Jupyter Notebook configuration:\n",
    "\n",
    "<img src=\"images/tutorial/addWorkspace3.png\" style=\"width:60%\"/>\n"
   ]
  },
  {
   "cell_type": "markdown",
   "metadata": {
    "graffitiCellId": "id_p76ssbp"
   },
   "source": [
    "### Adding Graffiti to Notebooks in Coco"
   ]
  },
  {
   "cell_type": "markdown",
   "metadata": {
    "graffitiCellId": "id_ftg0m0z"
   },
   "source": [
    "Now you should see the Jupyter Notebook file tree as per usual. Add a new notebook or upload one. Once you have it open, Just click the \"Activate Graffiti\" button in the menu bar area.\n",
    "\n",
    "<img src=\"images/tutorial/activateGraffiti.png\" style=\"width:60%\"/>\n",
    "\n",
    "You will be asked to Confirm:\n",
    "\n",
    "<img src=\"images/tutorial/activateGraffitiConfirm.png\" style=\"width:60%\"/>\n",
    "\n",
    "If this is the first notebook in the current concept upon which you've activated Graffiti, the browser will also ask you to grant access to your microphone. **You must grant access to your microphone** or Graffiti audio will not record and may not fully function.\n",
    "\n",
    "Once Graffiti has been activated, you will now see a button in the toolbar to show and hide the Graffiti Editor control panel:\n",
    "\n",
    "<img src=\"images/tutorial/showGraffiti.png\" style=\"width:60%\"/>\n",
    "\n",
    "Clicking this button will show the editor. \n",
    "\n",
    "<img src=\"images/tutorial/graffitiControlPanel.png\" style=\"width:60%\"/>\n",
    "\n",
    "At this point you can select any text in a code cell, or edit a markdown cell, and select some text in it. Then, the Control panel will show the Create button for creating a Graffiti:\n",
    "\n",
    "<img src=\"images/tutorial/clickCreate.png\" style=\"width:60%\"/>\n",
    "\n",
    "In the example above, we're adding a Graffiti that will show up near the word \"print\" in the code cell.\n",
    "\n",
    "Enter whatever you want to show up in the tip, in the temporary markdown cell that appears when you clicked the \"Create\" button:\n",
    "\n",
    "<img src=\"images/tutorial/enteringMarkdown.png\" style=\"width:60%\"/>\n",
    "\n",
    "Full markdown is supported and will be rendered inside the tip. In this example we used markdown around the word \"print\" in the tip to show that it is a python keyword.\n",
    "\n",
    "Now just click \"Save Graffiti\" or run the temporary cell to accept the tip contents. (The temporary editing cell will disappear). Now when you mouse over the word \"print\" in the code cell you'll see your new Graffiti tip:\n",
    "\n",
    "<img src=\"images/tutorial/tipProduced.png\" style=\"width:60%\"/>\n",
    "\n",
    "Now it's time to make a recording. When you click inside the Graffiti'd text in your code cell, you can add a recorded movie by clicking the \"Record\" button on the control panel. You'll be prompted to start your recording by clicking anywhere _inside_ your notebook content. After that point, everything you say and do will be recorded in the movie for later playback by others. We record mouse movements, typing, and all the drawing you might like to do using the drawing tools in the control panel.  None of the things you do will last beyond the recording, however, and we will restore the notebook to the state it was in when you began the recording, after you click \"End Recording\".\n",
    "\n",
    "<img src=\"images/tutorial/makingRecording.png\" style=\"width:60%\"/>\n",
    "\n",
    "You can make more than one \"take\" of a recording. Every time you record a movie, we store a new \"take\" and at any time you can choose which one is the one to show to your users or review previous takes by just clicking on the take you want. Playing that movie (via its tooltip) will play the last chosen take.\n",
    "\n",
    "<img src=\"images/tutorial/activeTake.png\" style=\"width:20%\"/>\n",
    "\n",
    "Suppose you don't like a Graffiti? It's simple to delete it using the trash icon. You will be prompted to confirm deletion.\n"
   ]
  },
  {
   "cell_type": "markdown",
   "metadata": {
    "graffitiCellId": "id_svkd4a4"
   },
   "source": [
    "# Special Graffiti Tooltip Commands"
   ]
  },
  {
   "cell_type": "markdown",
   "metadata": {
    "graffitiCellId": "id_2wzqgnl"
   },
   "source": [
    "Inside the Graffiti tips, you can add special commands to enhance the experience of the Graffiti and its recording. These commands can modify both the tip appearance and any associated movie's behavior. \n",
    "\n",
    "To use the commands, just enter them when you edit the tooltip contents.  Samples are provided below that you can interact with (created with Graffiti, of course).\n",
    "\n",
    "Each tooltip command must be on a line by itself and be preceded by the special marker `%%`.  _(Note: Any line that starts with `%%` alone is considered a comment and will not be displayed in the tooltip, or used to control your Graffiti)_\n",
    "\n",
    "| Command | Description | Sample       \n",
    "| -: |:-- | :-----------\n",
    "|`%%caption` |A caption you want displayed in the tooltip (in bold) above the tip's content.|<span class=\"graffiti-highlight graffiti-id_2wzqgnl-id_ju03gry\"><i></i>sample</span>\n",
    "|`%%caption_pic`| A picture to display next to the caption.|<span class=\"graffiti-highlight graffiti-id_2wzqgnl-id_ju03gry\"><i></i>sample</span>\n",
    "|`%%button_name` _button name_| You can name the button that is displayed in the tip to start a recording you have made with the tip.|<span class=\"graffiti-highlight graffiti-id_2wzqgnl-id_ju03gry\"><i></i>sample</span>\n",
    "|`%%narrator_name`| While a recording is playing, display this name in the control panel.|<span class=\"graffiti-highlight graffiti-id_2wzqgnl-id_ju03gry\"><i></i>sample</span>\n",
    "|`%%narrator_pic`| While a recording is playing, show this picture in the control panel.|<span class=\"graffiti-highlight graffiti-id_2wzqgnl-id_ju03gry\"><i></i>sample</span>\n",
    "|`%%caption_video_id`| Video to play in the tooltip. This can be a local mp4 file or a YouTube embed id.|<span class=\"graffiti-highlight graffiti-id_2wzqgnl-id_dw9kbha\"><i></i>sample</span>\n",
    "|`%%autoplay never once always`| When present, this Graffiti will start playing its movie immediately after the notebook is loaded. Use `once` to have it play only the first time the notebook is loaded. `always` means this Graffiti will automatically play every time the notebook is loaded. Useful for introduction Graffiti.|\n",
    "|`%%dont_restore_cell_contents_after_playback`| When present, we will warn the viewer before starting the movie that the contents of the cell may not be restored when the movie completes. Use this when you want to demonstrate something and immediately have the viewer play with the code in a code cell, when the movie finishes (if you don't use this, the cell's contents from before the movie started will be automatically restored so students don't lose any work.|\n",
    "|`%%hide_player_after_playback_complete`| When present, the control panel will disappear after the movie stops. Useful in conjunction with the `%%dont_restore_cell_contents_after_playback`.|\n",
    "|`%%play_on_click`| Clicking this element will play a movie. Usually used in conjunction with `%%hide_tooltip`. Using this you can make arbitrary HTML like buttons or images start playing a Graffiti movie.|<span class=\"graffiti-highlight graffiti-id_2wzqgnl-id_qb1dufq\"><i></i><button class=\"btn btn-default\" title=\"Show me\">Show me!</button></span>\n",
    "|`%%click_to_play`| Clicking this element will play a movie. Usually used in conjunction with `%%hide_tooltip`. Using this you can make arbitrary HTML like buttons or images start playing a Graffiti movie.|<span class=\"graffiti-highlight graffiti-id_2wzqgnl-id_qb1dufq\"><i></i><button class=\"btn btn-default\" title=\"Again\">Again!</button></span>\n",
    "|`%%hide_tooltip`| Do not show the tooltip when you mouse over this Graffiti.|<span class=\"graffiti-highlight graffiti-id_2wzqgnl-id_l6krgv2\"><i></i>sample</span>\n",
    "|`%%custom_sticker < path >`| Make the `Cs` icon in the recording control panel draw an image of your choosing.|<span class=\"graffiti-highlight graffiti-id_2wzqgnl-id_zydu1bp\"><i></i>sample</span>\n",
    "|`%%comment`| Any comment. This content is ignored when rendering the tooltip. |<span class=\"graffiti-highlight graffiti-id_2wzqgnl-id_059o4gd\"><i></i>sample</span>\n",
    "\n"
   ]
  },
  {
   "cell_type": "markdown",
   "metadata": {
    "graffitiCellId": "id_jbelblu"
   },
   "source": [
    "# Using the Graffiti API"
   ]
  },
  {
   "cell_type": "markdown",
   "metadata": {
    "graffitiCellId": "id_3qpcfdk"
   },
   "source": [
    "Graffiti exposes some of its functionality via an included Python API. This means you can play Graffiti movies or take other actions via calls you make in code cells. For instance, you could play a movie after testing a student's code for correctness, to demonstrate an alternate technique, give a hint, etc.\n",
    "\n",
    "One simple way to do this is to click the **<span class=\"graffiti-highlight graffiti-id_3qpcfdk-id_llekc9y\"><i></i>Create Sample API Calls</span>** button in the recording control panel. This will insert a new code cell in your notebook with example API calls you can make, and automatically provide the Graffiti's id in the calls (you need to id in order to play the associated movie). \n",
    "\n",
    "<img src=\"images/tutorial/sampleAPICalls.png\" style=\"width:20%;text-align:left\"/>\n",
    "\n",
    "Here's an example that was created with the **Create Sample API Calls** button. You can run the cell below to try it out."
   ]
  },
  {
   "cell_type": "code",
   "execution_count": null,
   "metadata": {
    "collapsed": true,
    "graffitiCellId": "id_5qjgz50"
   },
   "outputs": [],
   "source": [
    "import jupytergraffiti\n",
    "jupytergraffiti.api.play_recording('3qpcfdk_llekc9y')\n",
    "# jupytergraffiti.api.play_recording_with_prompt('3qpcfdk_llekc9y', '![idea](../images/lightbulb_small.jpg) Click **here** to learn more.')\n",
    "# jupytergraffiti.api.stop_playback()"
   ]
  },
  {
   "cell_type": "markdown",
   "metadata": {
    "graffitiCellId": "id_8wriuj4"
   },
   "source": [
    "To use the API, note that first we import the jupytergraffiti library to access its functions. Then we can make any of the following API calls via `jupytergraffiti.api.`: \n",
    "\n",
    "| Function | Description       \n",
    "| -: | :-----------\n",
    "| `play_recording` | Play any movie found for the id given.\n",
    "| `play_recording_with_prompt` | Prompt the user to play the movie but don't actually start the movie. In addition to the Graffiti id, you can provide markdown to render for the prompt in the second parameter. (Example in the cell above)\n",
    "| `stop_playback` | Pause any movie currently playing\n",
    "| `transfer_graffitis` | If you make a copy of a notebook with Graffiti in it, all the ids will refer to the same Graffiti in the original notebook (Graffiti data is stored separately from the notebook in the `jupytergraffiti_data` directory). In order to separate the Graffiti, you must run this function after copying a notebook. This will give all the Graffiti in your new notebook new ids.\n",
    "|`remove_all_graffitis`| Delete all the Graffiti in this notebook. You will be asked for confirmation first. It's a good way to \"start over from the top\".\n",
    "|`disable_graffiti`| This removes all Graffiti _and_ deactivates Graffiti on this notebook. You can always reactivate Graffiti later if you change your mind. If you need to send a notebook to someone without Graffiti, use this to create a totally \"Graffiti-free\" version.\n",
    "|`package_graffitis`| Create a gzipped tarball file containing your notebook and the contents of the `jupytergraffiti_data` directory. If you need to upload your Graffiti to Coco from your laptop, this can come in handy.\n"
   ]
  },
  {
   "cell_type": "markdown",
   "metadata": {
    "graffitiCellId": "id_mn88yov"
   },
   "source": [
    "# FAQ"
   ]
  },
  {
   "cell_type": "markdown",
   "metadata": {
    "graffitiCellId": "id_migh4xu"
   },
   "source": [
    "#### Can I record anything at all?\n",
    "No, you cannot record interactions with Jupyter controls such as the menu. However, we record all cursor motion, typing, adding/removing cells, scrolling, and of course drawing and stickering, as well as audio.\n",
    "#### How long should my recordings be?\n",
    "Because the entire audio file is downloaded when the Graffiti movie is played, we recommend keeping your movies short (1-3 minutes maximum) so the user doesn't wait too long before they see action happening.\n",
    "#### How many Graffiti can I add to a notebook?\n",
    "The sky's the limit!  Keep in mind though, the green markers on the right indicating the location of Graffiti can overlap if you have multiple Graffiti close to each other, making them harder to find.\n",
    "#### Can I use Graffiti on my laptop instead of in Coco?\n",
    "Yes you can! and you can save your recordings into github as well. (Documention pending.)\n",
    "#### Can I use this in different Jupyter Kernels?\n",
    "Yes, but Graffiti will switch to the Python Kernel temporarily to save your recordings and tips. Be aware that this will cause kernel restarts.\n",
    "#### I think I found a bug? What now?\n",
    "Let Will Kessler know in #workspaces. Please provide enough information to reproduce the issue."
   ]
  },
  {
   "cell_type": "markdown",
   "metadata": {
    "graffitiCellId": "id_g6pewkb"
   },
   "source": [
    "# Best Practices and  Technical Notes"
   ]
  },
  {
   "cell_type": "code",
   "execution_count": null,
   "metadata": {
    "collapsed": true,
    "graffitiCellId": "id_dmtfh8m"
   },
   "outputs": [],
   "source": []
  },
  {
   "cell_type": "markdown",
   "metadata": {
    "graffitiCellId": "id_ud5inyp"
   },
   "source": [
    "_Coming soon_"
   ]
  }
 ],
 "metadata": {
  "graffiti": {
   "firstAuthorId": "id_v045xlu",
   "id": "id_ukt9m5j",
   "language": "EN"
  },
  "graffitiId": "id_ah65j3x",
  "kernelspec": {
   "display_name": "Python 3",
   "language": "python",
   "name": "python3"
  },
  "language_info": {
   "codemirror_mode": {
    "name": "ipython",
    "version": 3
   },
   "file_extension": ".py",
   "mimetype": "text/x-python",
   "name": "python",
   "nbconvert_exporter": "python",
   "pygments_lexer": "ipython3",
   "version": "3.6.6"
  }
 },
 "nbformat": 4,
 "nbformat_minor": 2
}
