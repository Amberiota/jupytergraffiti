{
 "cells": [
  {
   "cell_type": "markdown",
   "metadata": {
    "graffitiCellId": "id_vuz09mx"
   },
   "source": [
    "# Introduction"
   ]
  },
  {
   "cell_type": "markdown",
   "metadata": {
    "graffitiCellId": "id_u9um4gd"
   },
   "source": [
    "In this notebook you will learn all about functions: reusable bits of code you can use to simplify your programs and generalize things.\n",
    "\n",
    "#### Hover <span class=\"graffiti-highlight graffiti-id_u9um4gd-id_evxmm4y\"><i></i>here</span> to learn more about what this notebook teaches you."
   ]
  },
  {
   "cell_type": "markdown",
   "metadata": {
    "graffitiCellId": "id_5i2e4ts"
   },
   "source": [
    "## What is a function?"
   ]
  },
  {
   "cell_type": "markdown",
   "metadata": {
    "graffitiCellId": "id_ezo2yxk"
   },
   "source": [
    "To introduce you to the concept of functions, we're going to hark back to your 10th grade math class. (Don't worry if you never studied this-- it's just a way to illustrate some CS concepts). \n",
    "\n",
    "Imagine that you had to find the value of an angle in a right triangle (where one corner of the triangle is a ninety-degree angle). Using trigonometric functions, we can calculate this mystery angle if we know the lengths of two sides of the triangle as shown in the following diagram:\n",
    "\n",
    "<img src=\"attachment:rt_triangle_math_is_fun.png\" style=\"width:300px;margin-left:20px\">\n",
    "\n",
    "To get started, let's assume we know the lengths of the side opposite angle $\\theta$ and the length of the hypotenuse in the above diagram. Given that information, we can calculate the angle $\\theta$ using Python's trigonetric function `asin()`.\n",
    "\n",
    "**Watch this Graffiti** to learn more about how the function works."
   ]
  },
  {
   "cell_type": "code",
   "execution_count": null,
   "metadata": {
    "collapsed": true,
    "graffitiCellId": "id_6b2w07e"
   },
   "outputs": [],
   "source": [
    "import math\n",
    "def calculate_angle(opposite,hypotenuse):\n",
    "    return math.asin(opposite/hypotenuse)\n",
    "\n",
    "side1_length = 5\n",
    "side2_length = 6\n",
    "angle = calculate_angle(side1_length,side2_length)\n",
    "\n",
    "print('The angle in radians is:', angle)"
   ]
  },
  {
   "cell_type": "markdown",
   "metadata": {
    "graffitiCellId": "id_9jrl3i5"
   },
   "source": [
    "## Functions using Functions and Refactoring"
   ]
  },
  {
   "cell_type": "markdown",
   "metadata": {
    "graffitiCellId": "id_gum2bmb"
   },
   "source": [
    "In our example above, we calculated an angle using radians. But who thinks in radians? Most people think of angles in terms of degrees. We can write a function that will convert an angle from radians to degrees and use it from our `calculate_angle` function.\n",
    "\n",
    "The formula for converting angles in radians to degrees is : (180 degrees / <span class=\"graffiti-highlight graffiti-id_gum2bmb-id_uz19jye\"><i></i>PI</span>) * angle.\n",
    "\n",
    "Let's learn how this works."
   ]
  },
  {
   "cell_type": "code",
   "execution_count": null,
   "metadata": {
    "collapsed": true,
    "graffitiCellId": "id_4ao2bed"
   },
   "outputs": [],
   "source": [
    "def convert_to_degrees (angle_in_radians):\n",
    "    return angle_in_radians * (180 / math.pi)\n",
    "\n",
    "def calculate_angle_in_degrees(opposite,hypotenuse):\n",
    "    angle_in_radians = math.asin(opposite/hypotenuse)\n",
    "    angle_in_degrees = convert_to_degrees(angle_in_radians)\n",
    "    \n",
    "    return angle_in_degrees\n",
    "\n",
    "side1_length = 4\n",
    "side2_length = 5\n",
    "angle = calculate_angle_in_degrees(side1_length,side2_length)\n",
    "\n",
    "print('The angle in degrees is:', angle)"
   ]
  },
  {
   "cell_type": "markdown",
   "metadata": {
    "graffitiCellId": "id_4qd835s"
   },
   "source": [
    "## Creating Python Modules"
   ]
  },
  {
   "cell_type": "markdown",
   "metadata": {
    "graffitiCellId": "id_cjs2gis"
   },
   "source": [
    "Well, this has all been great, but what if you want to use your functions in other notebooks? Do you have to copy those functions into every notebook, cluttering them up?\n",
    "\n",
    "NO! you don't. You can separate them out into what's called a python _module_ and just use one command (`import`) to bring them into any notebook.\n",
    "\n",
    "Show me how this plays out!"
   ]
  },
  {
   "cell_type": "code",
   "execution_count": null,
   "metadata": {
    "collapsed": true,
    "graffitiCellId": "id_w3rv2dz",
    "graffitiConfig": {
     "executeCellViaGraffiti": "7wyn141_5st3r5d"
    }
   },
   "outputs": [],
   "source": [
    "import math\n",
    "\n",
    "def convert_to_degrees (angle_in_radians):\n",
    "    return angle_in_radians * (180 / math.pi)\n",
    "\n",
    "def calculate_angle_in_degrees(opposite,hypotenuse):\n",
    "    angle_in_radians = math.asin(opposite/hypotenuse)\n",
    "    angle_in_degrees = convert_to_degrees(angle_in_radians)\n",
    "    \n",
    "    return angle_in_degrees\n",
    "\n",
    "print (\"Angle is:\", calculate_angle_in_degrees(5,10))"
   ]
  },
  {
   "cell_type": "markdown",
   "metadata": {
    "graffitiCellId": "id_gpewrg4",
    "graffitiConfig": {
     "rows": 6,
     "startingDirectory": "samples",
     "terminalId": "id_u1zdpn4",
     "type": "terminal"
    }
   },
   "source": [
    "<i>Loading terminal (id_gpewrg4), please wait...</i>"
   ]
  },
  {
   "cell_type": "markdown",
   "metadata": {
    "graffitiCellId": "id_7wyn141"
   },
   "source": [
    "<span class=\"graffiti-highlight graffiti-id_7wyn141-id_5st3r5d\"><i></i><button>Run Code</button></span>\n",
    "<span class=\"graffiti-highlight graffiti-id_v9i13dp-id_gaghdl7\"><i></i><button>Hide Solution</button></span>"
   ]
  },
  {
   "cell_type": "code",
   "execution_count": null,
   "metadata": {
    "collapsed": true,
    "graffitiCellId": "id_gaghdl7"
   },
   "outputs": [],
   "source": [
    "import math\n",
    "\n",
    "def convert_to_degrees (angle_in_radians):\n",
    "    return angle_in_radians * (180 / math.pi)\n",
    "\n",
    "def calculate_angle_in_degrees(opposite,hypotenuse):\n",
    "    angle_in_radians = math.asin(opposite/hypotenuse)\n",
    "    angle_in_degrees = convert_to_degrees(angle_in_radians)\n",
    "    \n",
    "    return angle_in_degrees\n",
    "\n",
    "print (\"Angle is:\", calculate_angle_in_degrees(5,10))"
   ]
  },
  {
   "cell_type": "code",
   "execution_count": null,
   "metadata": {
    "collapsed": true,
    "graffitiCellId": "id_jmia41p"
   },
   "outputs": [],
   "source": [
    "import angle_finder\n",
    "\n",
    "side1_length = 4\n",
    "side2_length = 5\n",
    "angle = angle_finder.calculate_angle_in_degrees(side1_length,side2_length)\n",
    "\n",
    "print('The angle in degrees is:', angle)"
   ]
  },
  {
   "cell_type": "code",
   "execution_count": 286,
   "metadata": {
    "graffitiCellId": "id_7l6xbal"
   },
   "outputs": [
    {
     "data": {
      "application/javascript": [
       "// Graffiti javascript\n",
       "if (window.Graffiti !== undefined) {\n",
       "window.Graffiti.disableGraffiti()\n",
       "}\n"
      ]
     },
     "metadata": {},
     "output_type": "display_data"
    }
   ],
   "source": [
    "import jupytergraffiti\n",
    "jupytergraffiti.api.disable_graffiti()"
   ]
  }
 ],
 "metadata": {
  "graffiti": {
   "dataDir": "../../jupytergraffiti_data/",
   "firstAuthorId": "dev",
   "id": "id_hvkb0pc",
   "language": "EN",
   "markdownLocked": false
  },
  "kernelspec": {
   "display_name": "Python 3",
   "language": "python",
   "name": "python3"
  },
  "language_info": {
   "codemirror_mode": {
    "name": "ipython",
    "version": 3
   },
   "file_extension": ".py",
   "mimetype": "text/x-python",
   "name": "python",
   "nbconvert_exporter": "python",
   "pygments_lexer": "ipython3",
   "version": "3.6.6"
  }
 },
 "nbformat": 4,
 "nbformat_minor": 2
}
