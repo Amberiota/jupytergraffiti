{
 "cells": [
  {
   "cell_type": "markdown",
   "metadata": {
    "graffitiCellId": "id_hksk8nc"
   },
   "source": [
    "# Welcome to Jupyter Graffiti!\n",
    "\n",
    "What can Jupyter Graffiti do? You can:\n",
    "\n",
    "* Create movies to highlight what's important\n",
    "* Diagram and demonstrate complex concepts\n",
    "* Add interactive shells and buttons... and much more\n",
    "\n",
    "Try hovering over the equation of the Pythagorean Theorem below (with the green dashed underlines) to see how Graffiti works.\n",
    "<hr>"
   ]
  },
  {
   "cell_type": "markdown",
   "metadata": {
    "graffitiCellId": "id_9xf6oai"
   },
   "source": [
    "<div style=\" font-size:32px;  line-height:42px;  padding-top:0px;  margin-left:10px;color:black\">\n",
    " The Pythagorean Theorem:\n",
    " <span style=\"padding:15px;margin-top:50px;cursor:pointer\"><span class=\"graffiti-highlight graffiti-id_9xf6oai-id_ymgzeho\"><i></i>$c = \\sqrt{a^2 + b^2}$</span></span>\n",
    "</div>\n",
    "<div style=\"background: url(./images/pythagoras3.png);color:white; background-opacity:0.5;  width:100%;  display:flex;  height: 250px;  margin-top:15px;display: block;  position: relative;\">\n",
    "\n",
    "</div>\n"
   ]
  },
  {
   "cell_type": "code",
   "execution_count": null,
   "metadata": {
    "graffitiCellId": "id_x1zavrv"
   },
   "outputs": [],
   "source": [
    "import math\n",
    "def calculate_hypotenuse(a,b):\n",
    "    c = math.sqrt(math.pow(a,2) + math.pow(b,2))\n",
    "    return (c)\n",
    "\n",
    "print (calculate_hypotenuse(3,4))"
   ]
  },
  {
   "cell_type": "markdown",
   "metadata": {
    "graffitiCellId": "id_9e2c15w"
   },
   "source": [
    "### Graffiti Buttons, Shells, and Solutions"
   ]
  },
  {
   "cell_type": "markdown",
   "metadata": {
    "graffitiCellId": "id_vqy2s0l"
   },
   "source": [
    "Let's see how a student might use a Graffiti to try to write some code, and how an instructor might show them a solution."
   ]
  },
  {
   "cell_type": "code",
   "execution_count": null,
   "metadata": {
    "collapsed": true,
    "graffitiCellId": "id_54d409v",
    "graffitiConfig": {
     "executeCellViaGraffiti": "wqqrbuy_ji3jyas"
    }
   },
   "outputs": [],
   "source": [
    "// Write a C++ program to find the sum of first 10 natural numbers.\n",
    "#include <iostream>\n",
    "using namespace std;\n",
    "int main()\n",
    "{\n",
    "    int i, sum = 0;\n",
    "    cout << \"The sum of the first 10 natural numbers is: \"<< sum << endl;\n",
    "}"
   ]
  },
  {
   "cell_type": "markdown",
   "metadata": {
    "graffitiCellId": "id_up4395w",
    "graffitiConfig": {
     "rows": 6,
     "startingDirectory": "samples",
     "terminalId": "id_up4395w",
     "type": "terminal"
    }
   },
   "source": [
    "<i>Loading terminal (id_up4395w), please wait...</i>"
   ]
  },
  {
   "cell_type": "markdown",
   "metadata": {
    "graffitiCellId": "id_wqqrbuy"
   },
   "source": [
    "<span class=\"graffiti-highlight graffiti-id_wqqrbuy-id_ji3jyas\"><i></i><button>Run Code</button></span>\n",
    "<span class=\"graffiti-highlight graffiti-id_nnb8lvv-id_7wwa9gi\"><i></i><button>Show Solution</button></span>"
   ]
  }
 ],
 "metadata": {
  "graffiti": {
   "firstAuthorId": "dev",
   "id": "id_4e5tz5k",
   "language": "EN"
  },
  "kernelspec": {
   "display_name": "Python 3",
   "language": "python",
   "name": "python3"
  },
  "language_info": {
   "codemirror_mode": {
    "name": "ipython",
    "version": 3
   },
   "file_extension": ".py",
   "mimetype": "text/x-python",
   "name": "python",
   "nbconvert_exporter": "python",
   "pygments_lexer": "ipython3",
   "version": "3.6.6"
  }
 },
 "nbformat": 4,
 "nbformat_minor": 2
}
