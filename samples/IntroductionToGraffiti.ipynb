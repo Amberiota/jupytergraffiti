{
 "cells": [
  {
   "cell_type": "markdown",
   "metadata": {
    "cellId": "id_3t27o7r9pfk"
   },
   "source": [
    "### Jupyter Graffiti\n",
    "\n",
    "*Jupyter Graffiti* allows you to create <span class=\"graffiti-highlight graffiti-id_3t27o7r9pfk-id_breecd\"><i></i>**tips**</span> and some recordings to illustrate how things work in your Jupyter code cells. To get *Jupyter Graffiti* going, run the cell below and then you will see underlined text in the following cell that you can click on to explore *Jupyter Graffiti*.\n"
   ]
  },
  {
   "cell_type": "code",
   "execution_count": null,
   "metadata": {
    "cellId": "id_w7xek8wzwjh",
    "collapsed": true
   },
   "outputs": [],
   "source": [
    "# Run this cell to start using Jupyter Graffiti\n",
    "import jupytergraffiti"
   ]
  },
  {
   "cell_type": "code",
   "execution_count": null,
   "metadata": {
    "cellId": "id_cgxukass1bi"
   },
   "outputs": [
    {
     "name": "stdout",
     "output_type": "stream",
     "text": [
      "My name is: mumflr fumperdink\n"
     ]
    }
   ],
   "source": [
    "# Let's explore a python function. Click here\n",
    "\n",
    "def print_my_name(name):\n",
    "    print (\"My name is: \" + name)\n",
    "    \n",
    "print_my_name('mumflr fumperdink')"
   ]
  },
  {
   "cell_type": "markdown",
   "metadata": {
    "cellId": "id_9z3xiq"
   },
   "source": [
    "Let's learn how to send in multiple parameter to a function. Mouse <span class=\"graffiti-highlight graffiti-id_9z3xiq-id_47bebx\"><i></i>here</span> to learn your challenge."
   ]
  },
  {
   "cell_type": "code",
   "execution_count": null,
   "metadata": {
    "cellId": "id_ra015m"
   },
   "outputs": [
    {
     "name": "stdout",
     "output_type": "stream",
     "text": [
      "5\n"
     ]
    }
   ],
   "source": [
    "# Two parameter function code \n",
    "def my_func(a,b):\n",
    "    # put your code here"
   ]
  },
  {
   "cell_type": "code",
   "execution_count": null,
   "metadata": {
    "cellId": "id_p9pi43",
    "collapsed": true
   },
   "outputs": [],
   "source": [
    "# Run this cell to test your code!\n",
    "if (my_func(1,2) == 3):\n",
    "    jupytergraffiti.api.play_recording('p9pi43_vtkehj')"
   ]
  },
  {
   "cell_type": "code",
   "execution_count": 40,
   "metadata": {
    "cellId": "id_qf0tvt"
   },
   "outputs": [
    {
     "data": {
      "application/javascript": [
       "// Graffiti javascript\n",
       "if (window.Graffiti !== undefined) {\n",
       "window.Graffiti.showCreatorsChooser()\n",
       "}\n"
      ]
     },
     "metadata": {},
     "output_type": "display_data"
    }
   ],
   "source": [
    "#jupytergraffiti.api.play_recording('cgxukass1bi_s8mmhpj4w6o')\n",
    "#jupytergraffiti.api.play_recording_with_prompt('cgxukass1bi_s8mmhpj4w6o', '![idea](../images/lightbulb_small.jpg) Click **here** to learn more.')\n",
    "# jupytergraffiti.api.stop_playback()\n",
    "jupytergraffiti.api.show_creators_chooser()"
   ]
  },
  {
   "cell_type": "code",
   "execution_count": null,
   "metadata": {
    "cellId": "id_pmmo31"
   },
   "outputs": [
    {
     "data": {
      "text/html": [
       "<button id=\"launcher\" onclick=\"javascript:Graffiti.playRecordingById('cgxukass1bi_s8mmhpj4w6o')\">Walk me through this!</button>"
      ],
      "text/plain": [
       "<IPython.core.display.HTML object>"
      ]
     },
     "metadata": {},
     "output_type": "display_data"
    }
   ],
   "source": [
    "%%HTML\n",
    "<button id=\"launcher\" onclick=\"javascript:Graffiti.playRecordingById('cgxukass1bi_s8mmhpj4w6o')\">Walk me through this!</button>"
   ]
  },
  {
   "cell_type": "code",
   "execution_count": 39,
   "metadata": {
    "cellId": "id_cyaardr06pq"
   },
   "outputs": [
    {
     "data": {
      "application/javascript": [
       "// Graffiti javascript\n",
       "if (window.Graffiti !== undefined) {\n",
       "window.Graffiti.setAccessLevel('create')\n",
       "}\n"
      ]
     },
     "metadata": {},
     "output_type": "display_data"
    }
   ],
   "source": [
    "jupytergraffiti.api.set_access_level('create')"
   ]
  },
  {
   "cell_type": "markdown",
   "metadata": {
    "cellId": "id_tfqrbtxwjn"
   },
   "source": [
    "<br/>\n",
    "\n",
    "\n",
    "Now it's time to try creating your own *Graffiti*. To do so, run the command in the next cell. After that, click on some text inside the next code cell to start creating a new *Graffiti*."
   ]
  },
  {
   "cell_type": "code",
   "execution_count": null,
   "metadata": {
    "cellId": "id_vf9dhp98189"
   },
   "outputs": [],
   "source": [
    "# Try to create a Graffiti here. Click on any of the code below and click the Create button in the menu bar above.\n",
    "a = 11\n",
    "b = 2\n",
    "sum = a + b\n",
    "print(sum)"
   ]
  }
 ],
 "metadata": {
  "graffitiId": "id_z49w15reonj",
  "kernelspec": {
   "display_name": "Python 3",
   "language": "python",
   "name": "python3"
  },
  "language_info": {
   "codemirror_mode": {
    "name": "ipython",
    "version": 3
   },
   "file_extension": ".py",
   "mimetype": "text/x-python",
   "name": "python",
   "nbconvert_exporter": "python",
   "pygments_lexer": "ipython3",
   "version": "3.6.1"
  }
 },
 "nbformat": 4,
 "nbformat_minor": 2
}
