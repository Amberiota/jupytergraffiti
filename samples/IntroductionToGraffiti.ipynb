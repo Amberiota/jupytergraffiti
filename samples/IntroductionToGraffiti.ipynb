{
 "cells": [
  {
   "cell_type": "markdown",
   "metadata": {
    "cellId": "id_3t27o7r9pfk"
   },
   "source": [
    "### Jupyter Graffiti\n",
    "\n",
    "*Jupyter Graffiti* allows<span class=\"graffiti-highlight graffiti-id_3t27o7r9pfk-id_5nj8uo\"><i></i></span> you to create **tips** and some <span class=\"graffiti-highlight graffiti-id_3t27o7r9pfk-id_an1wb3\"><i></i>recordings</span> to <span class=\"graffiti-highlight graffiti-id_3t27o7r9pfk-id_id9vvd\"><i></i>illustrate</span> how things work in your Jupyter code cells. To get *Jupyter Graffiti* going, run the cell below and then you will see underlined text in the following cell that you can click on to explore *Jupyter Graffiti*.\n"
   ]
  },
  {
   "cell_type": "code",
   "execution_count": 5,
   "metadata": {
    "cellId": "id_w7xek8wzwjh",
    "collapsed": true
   },
   "outputs": [],
   "source": [
    "# Run this cell to start using Jupyter Graffiti\n",
    "import jupytergraffiti"
   ]
  },
  {
   "cell_type": "code",
   "execution_count": null,
   "metadata": {
    "cellId": "id_cgxukass1bi",
    "collapsed": true
   },
   "outputs": [],
   "source": [
    "# Let's explore a python function. Click here\n",
    "\n",
    "def print_my_name(name):\n",
    "    print (\"My name is: \" + name)\n",
    "    \n",
    "print_my_name('mumflr fumperdink')"
   ]
  },
  {
   "cell_type": "markdown",
   "metadata": {
    "cellId": "id_tfqrbtxwjn"
   },
   "source": [
    "<br/>\n",
    "\n",
    "\n",
    "Now it's time to try creating your own *Graffiti*. To do so, run the command in the next cell. After that, click on some text inside the next code cell to start creating a new *Graffiti*."
   ]
  },
  {
   "cell_type": "code",
   "execution_count": 6,
   "metadata": {
    "cellId": "id_qf0tvt"
   },
   "outputs": [
    {
     "data": {
      "application/javascript": [
       "// Graffiti javascript\n",
       "if (window.Graffiti !== undefined) {\n",
       "window.Graffiti.showCreatorsChooser()\n",
       "}\n"
      ]
     },
     "metadata": {},
     "output_type": "display_data"
    }
   ],
   "source": [
    "#jupytergraffiti.api.play_recording('cgxukass1bi_s8mmhpj4w6o')\n",
    "#jupytergraffiti.api.play_recording_with_prompt('cgxukass1bi_s8mmhpj4w6o', '![idea](../images/lightbulb_small.jpg) Click **here** to learn more.')\n",
    "# jupytergraffiti.api.stop_playback()\n",
    "jupytergraffiti.api.show_creators_chooser()"
   ]
  },
  {
   "cell_type": "code",
   "execution_count": null,
   "metadata": {
    "cellId": "id_pmmo31",
    "collapsed": true
   },
   "outputs": [],
   "source": [
    "%%HTML\n",
    "<button id=\"launcher\" onclick=\"javascript:Graffiti.playRecordingById('cgxukass1bi_s8mmhpj4w6o')\">Walk me through this!</button>"
   ]
  },
  {
   "cell_type": "code",
   "execution_count": null,
   "metadata": {
    "cellId": "id_cyaardr06pq",
    "collapsed": true
   },
   "outputs": [],
   "source": [
    "jupytergraffiti.api.set_access_level('view')"
   ]
  },
  {
   "cell_type": "code",
   "execution_count": null,
   "metadata": {
    "cellId": "id_vf9dhp98189",
    "collapsed": true
   },
   "outputs": [],
   "source": [
    "# Try to create a Graffiti here. Click on any of the code below and click the Create button in the menu bar above.\n",
    "a = 11\n",
    "b = 2\n",
    "sum = a + b\n",
    "print(sum)"
   ]
  }
 ],
 "metadata": {
  "graffitiId": "id_z49w15reonj",
  "kernelspec": {
   "display_name": "Python 3",
   "language": "python",
   "name": "python3"
  },
  "language_info": {
   "codemirror_mode": {
    "name": "ipython",
    "version": 3
   },
   "file_extension": ".py",
   "mimetype": "text/x-python",
   "name": "python",
   "nbconvert_exporter": "python",
   "pygments_lexer": "ipython3",
   "version": "3.6.1"
  }
 },
 "nbformat": 4,
 "nbformat_minor": 2
}
