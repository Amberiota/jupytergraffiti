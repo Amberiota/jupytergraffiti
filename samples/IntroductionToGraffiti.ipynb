{
 "cells": [
  {
   "cell_type": "code",
   "execution_count": null,
   "metadata": {
    "collapsed": true,
    "graffitiCellId": "id_qgues9q"
   },
   "outputs": [],
   "source": [
    "import time\n",
    "print('hi')\n",
    "time.sleep(2) # testing 123\n",
    "print('foo') # foo\n",
    "time.sleep(2)\n",
    "print('bar')"
   ]
  },
  {
   "cell_type": "code",
   "execution_count": null,
   "metadata": {
    "collapsed": true,
    "graffitiCellId": "id_jra457u"
   },
   "outputs": [],
   "source": [
    "print ('ho')"
   ]
  },
  {
   "cell_type": "markdown",
   "metadata": {
    "graffitiCellId": "id_3t27o7r9pfk"
   },
   "source": [
    "### <span class=\"graffiti-highlight graffiti-id_3t27o7r9pfk-id_8rfbsk\"><i></i>Jupyter Graffiti</span>\n",
    "\n",
    "*Jupyter Graffiti* allows you to create **tips** and some <span class=\"graffiti-highlight graffiti-id_3t27o7r9pfk-id_fg00do\"><i></i>recordingly</span> to illustrate how things work in your Jupyter code cells. To get *Jupyter Graffiti* going, run <span class=\"graffiti-highlight graffiti-id_3t27o7r9pfk-id_kzy9fd8\"><i></i>the cell below</span> and add some thoughts for Jason then you will see underlined text in the following cell that you can click on to <span class=\"graffiti-highlight graffiti-id_3t27o7r9pfk-id_wd7suhv\"><i></i>explore</span> *Jupyter Graffiti*.\n"
   ]
  },
  {
   "cell_type": "code",
   "execution_count": null,
   "metadata": {
    "collapsed": true,
    "graffitiCellId": "id_9djhj7"
   },
   "outputs": [],
   "source": [
    "jupytergraffiti.api.play_recording('3t27o7r9pfk_8rfbsk')\n",
    "# jupytergraffiti.api.play_recording_with_prompt('3t27o7r9pfk_8rfbsk', '![idea](../images/lightbulb_small.jpg) Click **here** to learn more.')\n",
    "# jupytergraffiti.api.stop_playback()"
   ]
  },
  {
   "cell_type": "markdown",
   "metadata": {
    "graffitiCellId": "id_le57ve3"
   },
   "source": [
    "### testing <span class=\"graffiti-highlight graffiti-id_le57ve3-id_srw274d\"><i></i>123</span>\n",
    "testing 456\n",
    "\n",
    "* bullet 1\n",
    "* bullet 2\n",
    "* bullet 3\n",
    "\n",
    "<span class=\"graffiti-highlight graffiti-id_le57ve3-id_d34kjzd\"><i></i><img src=\"images/headshots/h6.jpeg\"/></span>"
   ]
  },
  {
   "cell_type": "code",
   "execution_count": 1,
   "metadata": {
    "graffitiCellId": "id_w7xek8wzwjh"
   },
   "outputs": [
    {
     "data": {
      "application/javascript": [
       "require(['jupytergraffiti/js/loader.js']);"
      ]
     },
     "metadata": {},
     "output_type": "display_data"
    }
   ],
   "source": [
    "# Run this cell to start using Jupyter Graffiti\n",
    "import jupytergraffiti"
   ]
  },
  {
   "cell_type": "code",
   "execution_count": 2,
   "metadata": {
    "graffitiCellId": "id_we27ju2"
   },
   "outputs": [
    {
     "data": {
      "application/javascript": [
       "// Graffiti javascript\n",
       "if (window.Graffiti !== undefined) {\n",
       "window.Graffiti.disableGraffiti()\n",
       "}\n"
      ]
     },
     "metadata": {},
     "output_type": "display_data"
    }
   ],
   "source": [
    "jupytergraffiti.api.disable_graffiti()"
   ]
  },
  {
   "cell_type": "code",
   "execution_count": null,
   "metadata": {
    "collapsed": true,
    "graffitiCellId": "id_cgxukass1bi"
   },
   "outputs": [],
   "source": [
    "# Let's explore a python function. Click here\n",
    "\n",
    "def print_my_name(name):\n",
    "    print (\"My name is: \" + name)\n",
    "    \n",
    "print_my_name('mumflr fumperdink')"
   ]
  },
  {
   "cell_type": "markdown",
   "metadata": {
    "graffitiCellId": "id_9z3xiq"
   },
   "source": [
    "Let's learn how to send in multiple parameter to a function. Mouse <span class=\"graffiti-highlight graffiti-id_9z3xiq-id_47bebx\"><i></i>here</span> to learn your challenge."
   ]
  },
  {
   "cell_type": "code",
   "execution_count": null,
   "metadata": {
    "collapsed": true,
    "graffitiCellId": "id_ra015m"
   },
   "outputs": [],
   "source": [
    "# Two parameter function code \n",
    "def my_func(a,b):\n",
    "    # put your code here"
   ]
  },
  {
   "cell_type": "code",
   "execution_count": null,
   "metadata": {
    "collapsed": true,
    "graffitiCellId": "id_p9pi43"
   },
   "outputs": [],
   "source": [
    "# Run this cell to test your code!\n",
    "if (my_func(1,2) == 3):\n",
    "    jupytergraffiti.api.play_recording('p9pi43_vtkehj')"
   ]
  },
  {
   "cell_type": "code",
   "execution_count": null,
   "metadata": {
    "collapsed": true,
    "graffitiCellId": "id_qf0tvt"
   },
   "outputs": [],
   "source": [
    "#jupytergraffiti.api.play_recording('cgxukass1bi_s8mmhpj4w6o')\n",
    "#jupytergraffiti.api.play_recording_with_prompt('cgxukass1bi_s8mmhpj4w6o', '![idea](../images/lightbulb_small.jpg) Click **here** to learn more.')\n",
    "# jupytergraffiti.api.stop_playback()\n",
    "jupytergraffiti.api.show_creators_chooser()"
   ]
  },
  {
   "cell_type": "code",
   "execution_count": null,
   "metadata": {
    "collapsed": true,
    "graffitiCellId": "id_pmmo31"
   },
   "outputs": [],
   "source": [
    "%%HTML\n",
    "<button id=\"launcher\" onclick=\"javascript:Graffiti.playRecordingById('cgxukass1bi_s8mmhpj4w6o')\">Walk me through this!</button>"
   ]
  },
  {
   "cell_type": "code",
   "execution_count": null,
   "metadata": {
    "collapsed": true,
    "graffitiCellId": "id_cyaardr06pq"
   },
   "outputs": [],
   "source": [
    "jupytergraffiti.api.set_access_level('create')"
   ]
  },
  {
   "cell_type": "markdown",
   "metadata": {
    "graffitiCellId": "id_tfqrbtxwjn"
   },
   "source": [
    "<br/>\n",
    "\n",
    "\n",
    "Now it's time to try creating your own *Graffiti*. To do so, run the command in the next cell. After that, click on some text inside the next code cell to start creating a new *Graffiti*."
   ]
  },
  {
   "cell_type": "code",
   "execution_count": null,
   "metadata": {
    "collapsed": true,
    "graffitiCellId": "id_vf9dhp98189"
   },
   "outputs": [],
   "source": [
    "# Try to create a Graffiti here. Click on any of the code below and click the Create button in the menu bar above.\n",
    "a = 11\n",
    "b = 2\n",
    "sum = a + b\n",
    "print(sum"
   ]
  }
 ],
 "metadata": {
  "graffitiId": "id_z49w15reonj",
  "kernelspec": {
   "display_name": "Python 3",
   "language": "python",
   "name": "python3"
  },
  "language_info": {
   "codemirror_mode": {
    "name": "ipython",
    "version": 3
   },
   "file_extension": ".py",
   "mimetype": "text/x-python",
   "name": "python",
   "nbconvert_exporter": "python",
   "pygments_lexer": "ipython3",
   "version": "3.6.6"
  }
 },
 "nbformat": 4,
 "nbformat_minor": 2
}
