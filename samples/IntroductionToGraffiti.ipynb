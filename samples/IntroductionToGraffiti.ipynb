{
 "cells": [
  {
   "cell_type": "markdown",
   "metadata": {
    "cellId": "id-3t27o7r9pfk"
   },
   "source": [
    "### Jupyter Graffiti\n",
    "\n",
    "*Jupyter Graffiti* allows you to create tips and recordings to illustrate how things work in your Jupyter code cells. To get *Jupyter Graffiti* going, run the cell below, and then you will see underlined text in the following cell that you can click on to explore *Jupyter Graffiti*.\n"
   ]
  },
  {
   "cell_type": "code",
   "execution_count": null,
   "metadata": {
    "cellId": "id-w7xek8wzwjh"
   },
   "outputs": [
    {
     "data": {
      "application/javascript": [
       "require(['jupytergraffiti/js/loader.js']);"
      ]
     },
     "metadata": {},
     "output_type": "display_data"
    }
   ],
   "source": [
    "# Run this cell to start using Jupyter Graffiti\n",
    "import jupytergraffiti"
   ]
  },
  {
   "cell_type": "code",
   "execution_count": null,
   "metadata": {
    "cellId": "id-cgxukass1bi"
   },
   "outputs": [
    {
     "name": "stdout",
     "output_type": "stream",
     "text": [
      "My name is:Bob\n"
     ]
    }
   ],
   "source": [
    "# Let's explore a python function. Click here\n",
    "\n",
    "def print_my_name(name):\n",
    "    print (\"My name is:\" + name)\n",
    "    \n",
    "print_my_name('Bob')"
   ]
  },
  {
   "cell_type": "markdown",
   "metadata": {
    "cellId": "id-tfqrbtxwjn"
   },
   "source": [
    "<br/>\n",
    "<br/>\n",
    "<br/>\n",
    "<br/>\n",
    "\n",
    "\n",
    "Now it's time to try creating your own *Graffiti*. To do so, run the command in the next cell. After that, click on some text inside the next code cell to start creating a new *Graffiti*."
   ]
  },
  {
   "cell_type": "code",
   "execution_count": null,
   "metadata": {
    "cellId": "id-cyaardr06pq",
    "collapsed": true
   },
   "outputs": [],
   "source": [
    "jupytergraffiti.api.set_access_level('create')"
   ]
  },
  {
   "cell_type": "code",
   "execution_count": null,
   "metadata": {
    "cellId": "id-vf9dhp98189",
    "collapsed": true
   },
   "outputs": [],
   "source": [
    "# Try to create a Graffiti here. Click on any of the code below and click the Create button in the menu bar above.\n",
    "a = 1\n",
    "b = 2\n",
    "sum = a + b\n",
    "print(sum)"
   ]
  },
  {
   "cell_type": "code",
   "execution_count": 13,
   "metadata": {
    "cellId": "id-gucj342yelt"
   },
   "outputs": [
    {
     "data": {
      "application/javascript": [
       "// Graffiti javascript\n",
       "if (window.Annotations !== undefined) {\n",
       "window.Annotations.playRecordingByIdWithPrompt('id-cgxukass1bi_id-mwgcuw6hnq','![bulb](../images/lightbulb_small.jpg) Need a hint? Click **here**.')\n",
       "}\n"
      ]
     },
     "metadata": {},
     "output_type": "display_data"
    }
   ],
   "source": [
    "jupytergraffiti.api.play_recording_with_prompt('id-cgxukass1bi_id-mwgcuw6hnq', '![bulb](../images/lightbulb_small.jpg) Need a hint? Click **here**.')"
   ]
  }
 ],
 "metadata": {
  "kernelspec": {
   "display_name": "Python 3",
   "language": "python",
   "name": "python3"
  },
  "language_info": {
   "codemirror_mode": {
    "name": "ipython",
    "version": 3
   },
   "file_extension": ".py",
   "mimetype": "text/x-python",
   "name": "python",
   "nbconvert_exporter": "python",
   "pygments_lexer": "ipython3",
   "version": "3.6.1"
  },
  "recordingId": "id-z49w15reonj"
 },
 "nbformat": 4,
 "nbformat_minor": 2
}
