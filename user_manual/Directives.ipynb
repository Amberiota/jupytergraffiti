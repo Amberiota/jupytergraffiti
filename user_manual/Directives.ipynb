{
 "cells": [
  {
   "cell_type": "markdown",
   "metadata": {
    "graffitiCellId": "id_54w53dy"
   },
   "source": [
    "# Jupyter Graffiti Directives\n",
    "\n",
    "When you create a Jupyter Graffiti, you can control how it behaves with \"directives\" placed in the tip contents.\n",
    "\n",
    "To use the directives, just enter them when you edit the tooltip contents. \n",
    "\n",
    "Every directive is a single command that must be entered on a line by itself, preceded with the special prefix `%%`. Some directives take additional parameters.\n",
    "\n",
    "The available directives and their parameters are shown in the reference table below.\n",
    "\n",
    "Any content preceded by three or more `%` characters in a row is considered a comment, as is any line with the directive `%comment`. This content will be ignored. You can use this to temporarily defeat directives without deleting them.\n",
    "\n",
    "Conversely, any non-directive content is rendered in the tip shown to the viewer (if a tip is shown, tip viewing can be turned off by the directive `%%hide_tooltip`).\n",
    "\n",
    "Some directives are  used in combination with other directives. For example, usually the `%%save_to_file` directive is combined with the `%%terminal_command` directive, for instance:"
   ]
  },
  {
   "cell_type": "code",
   "execution_count": null,
   "metadata": {
    "collapsed": true,
    "graffitiCellId": "id_0s9701x"
   },
   "outputs": [],
   "source": [
    "%%comment  This directive will autosave the contents of a code cell with graffiti id \"id_54d409v\" to a file called \n",
    "%%comment  \"./sum_natural.cpp\". The code cell id's are available in the terminal cell's metadata.\n",
    "\n",
    "%%save_to_file id_54d409v \"./sum_natural.cpp\"\n",
    "\n",
    "%%comment This directive will run the command \"g++ ./sum_natural.cpp && ./a.out\" into the Graffiti terminal cell\n",
    "%%comment with id \"id_up4395w\". The graffiti id's are available in the terminal cell's metadata.\n",
    "\n",
    "%%terminal_command id_up4395w \"g++ ./sum_natural.cpp && ./a.out\""
   ]
  },
  {
   "cell_type": "markdown",
   "metadata": {
    "graffitiCellId": "id_gyufk5u"
   },
   "source": [
    "Because some of these directives are complex and work in combination with other directives, we also give examples below the reference table of them in use that you can feel free to edit to see how they work."
   ]
  },
  {
   "cell_type": "markdown",
   "metadata": {
    "graffitiCellId": "id_qrovluz"
   },
   "source": [
    "## Jupyter Graffiti Directives: Reference Table\n",
    "\n",
    "| Command | Description | Sample       \n",
    "| -: |:-- | :-----------\n",
    "|`%%comment`| Any comment. This content is ignored when rendering the tooltip. || \n",
    "|`%%caption` | A caption you want displayed in the tooltip (in bold) above the tip's content.||\n",
    "|`%%caption_pic`| A picture to display next to the caption.|<span class=\"graffiti-highlight graffiti-id_2wzqgnl-id_ju03gry\"><i></i>sample</span>\n",
    "|`%%button_name` _button name_| You can name the button that is displayed in the tip to start a recording you have made with the tip.|<span class=\"graffiti-highlight graffiti-id_2wzqgnl-id_ju03gry\"><i></i>sample</span>\n",
    "|`%%narrator_name`| While a recording is playing, display this name in the control panel.|<span class=\"graffiti-highlight graffiti-id_2wzqgnl-id_ju03gry\"><i></i>sample</span>\n",
    "|`%%narrator_pic`| While a recording is playing, show this picture in the control panel.|<span class=\"graffiti-highlight graffiti-id_2wzqgnl-id_ju03gry\"><i></i>sample</span>\n",
    "|`%%caption_video_id`| Video to play in the tooltip. This can be a local mp4 file or a YouTube embed id.|<span class=\"graffiti-highlight graffiti-id_2wzqgnl-id_dw9kbha\"><i></i>sample</span>\n",
    "|`%%dont_restore_cell_contents_after_playback`| When present, we will warn the viewer before starting the movie that the contents of the cell may not be restored when the movie completes. Use this when you want to demonstrate something and immediately have the viewer play with the code in a code cell, when the movie finishes (if you don't use this, the cell's contents from before the movie started will be automatically restored so students don't lose any work.|\n",
    "|`%%hide_player_after_playback_complete`| When present, the control panel will disappear after the movie stops. Useful in conjunction with the `%%dont_restore_cell_contents_after_playback`.||\n",
    "|`%%play_on_click`, `%%click_to_play`| Clicking this element will play a movie immediately. Usually used in conjunction with `%%hide_tooltip`. Using this you can make arbitrary HTML like buttons or images start playing a Graffiti movie.|<span class=\"graffiti-highlight graffiti-id_2wzqgnl-id_qb1dufq\"><i></i><button class=\"btn btn-default\" title=\"Show me\">Show me!</button></span>\n",
    "|`%%hide_tooltip`| Do not show the tooltip when you mouse over this Graffiti.|<span class=\"graffiti-highlight graffiti-id_2wzqgnl-id_l6krgv2\"><i></i>sample</span>\n",
    "|`%%custom_sticker < file path >`| Make the `Cs` icon in the recording control panel draw an image of your choosing as given by the <file path> e.g. a .png file.||\n",
    "|`%%save_to_file id <file path>`| Set a cell to autosave to the file path given. You can add several of these directives to a single Graffiti. This will ensure, for instance, that changes in multiple cells are saved before the Graffiti is activated. An example of this might be one cell for a C header file, one cell for a C code file, and then the Graffiti associated with a \"run code\" button will then contain two of these directives to ensure that both cells are persisted to disk before a `%%terminal_command` directive is run by clicking the \"run code\" button. The Graffiti id of a code cell can be found in the cell's metadata.|<span class=\"graffiti-highlight graffiti-id_2wzqgnl-id_059o4gd\"><i></i>sample</span>\n",
    "|`%%terminal_command id \"shell command\"`| Run the given shell command in the terminal cell identified by the id given. The id of a terminal cell can be found in the cell's metadata.||\n",
    "|`%%insert_data_from_file <cell type> <path>`|Add a cell of the given <cell type> directly below the cell containing the current Graffiti, and fetch the contents of the file indicated by <path> and insert that content into the new cell. The <cell type> can be either \"markdown\" or \"code\". You typically use this in conjunction with `%%label_swaps`, see below.||\n",
    "|`%%label_swaps <labe11> <label2>`|When this Graffiti is executed, swap the label on whatever Graffiti is anchored to between the two given labels. Typically this will be a Graffiti button where you want to \"Show\" or \"Hide\" a solution read in via the `%%insert_data_from_file` directive. ||\n",
    "|`%%silence_warnings`|Make sure you use this directive with `%%insert_data_from_file` to avoid warnings from Jupyter and Graffiti about saving changes. ||\n",
    "|`%%replay_all_cells`|Graffiti movies record the state of all cells contents for reply. However, you typically only want to replay the contents of the cells you interact with during recording, and not disturb any cells that you didn't interact with (interact means \"click inside of\"). If you have reference cells that you want restored during movie playback even though you didn't interact with them during the recording, then use this directive in your tip to make sure _all_ cells are restored during playback. ||\n",
    "|`%%scale_cursor_with_window`|Graffiti drawings retain their size as recorded unless you include this directive. When this is present, the drawings will be scaled relative to the current window size the viewer has chosen before the movie is played back. (If this directive is not present, Graffiti drawings are not scaled.) ||\n",
    "|`%%skip_speed <speed factor>`|_Please note: this directive is a work-in-progress as of April 23, 2019._ When you create \"skips\" during movie recording, by default the skips are \"absolute\" meaning the playback head will just jump immediately over that section of the movie. With this directive you can change that behavior. Enter the speed you want as either an acceleration factor (2x, 3x, etc), or a fixed time (2.0c). The fixed time means that the actual time you skipped will be played back as nearly as possible to the fixed time you specify. For instance, suppose you set up a 10 second skip. Then entering \"2c\" means that all 10 seconds will try to play back in 2 seconds. If you entered \"2x\" however, that skip will try to play in 5 seconds. ||\n"
   ]
  },
  {
   "cell_type": "markdown",
   "metadata": {
    "graffitiCellId": "id_525w1w9"
   },
   "source": [
    "### Examples of more complicated directives\n",
    "\n",
    "Try out these Graffiti to see how they work. Edit them to see their directives in detail.\n"
   ]
  },
  {
   "cell_type": "markdown",
   "metadata": {
    "graffitiCellId": "id_rilpp9b"
   },
   "source": [
    "#### Custom Sticker\n",
    "\n",
    "To create a custom sticker, first you need to create a Graffiti, then add the `%%custom_sticker` directive and rerecord the movie you started with, so that you can use the custom sticker in your recording. While recording, use the \"Cs\" icon in the stickers panel to create a custom sticker with whatever file you are using for the custom sticker.\n",
    "\n",
    "Try hovering over this <span class=\"graffiti-highlight graffiti-id_rilpp9b-id_3ipign7\"><i></i>Graffiti</span> to see a custom sticker movie play."
   ]
  },
  {
   "cell_type": "markdown",
   "metadata": {
    "graffitiCellId": "id_8l6z2zb"
   },
   "source": [
    "#### Show/Hide button (uses `%%label_swaps` and `%%insert_data_from_file`)\n",
    "\n",
    "In this example, there's a Show/Hide button that fetches a file from the path `../samples/sum_natural_soln.cpp` and inserts it into a code cell below the button. It also changes the button from saying \"Show Solution\" to \"Hide Solution\" using the `%%label_swaps` directive. \n",
    "\n",
    "If you want to record a movie explaining the solution, first put a Show/Hide button in place using the Editor Panel \"Create show/hide button\" icon. Then show the solution by clicking your new Show/Hide button. Finally, record a movie on the button (edit the button's markdown to record a movie on the Graffiti assigned to the button). That movie will play when the user clicks the Show button and \"reveals\" the solution.\n"
   ]
  },
  {
   "cell_type": "code",
   "execution_count": null,
   "metadata": {
    "graffitiCellId": "id_eutorom"
   },
   "outputs": [],
   "source": [
    "// Write a C++ program to find the sum of first 10 natural numbers.\n",
    "#include <iostream>\n",
    "using namespace std;\n",
    "int main()\n",
    "{\n",
    "    int i, sum = 0;\n",
    "    cout << \"The sum of the first 10 natural numbers is: \"<< sum << endl;\n",
    "}"
   ]
  },
  {
   "cell_type": "markdown",
   "metadata": {
    "graffitiCellId": "id_ajhpo5x"
   },
   "source": [
    "<span class=\"graffiti-highlight graffiti-id_ajhpo5x-id_a1h2ww3\"><i></i><button>Show Solution</button></span>"
   ]
  },
  {
   "cell_type": "markdown",
   "metadata": {
    "graffitiCellId": "id_n44zb0q"
   },
   "source": [
    "#### Terminal and Run Code Button\n",
    "\n",
    "If you edit the markdown for the \"Run Code\" button and then click inside the Graffiti and click Edit in the Graffiti Editor panel to see the directives that autosave the code cell's contents."
   ]
  },
  {
   "cell_type": "code",
   "execution_count": null,
   "metadata": {
    "collapsed": true,
    "graffitiCellId": "id_a6fkwks",
    "graffitiConfig": {
     "executeCellViaGraffiti": "mri2acj_4vpwxlz"
    }
   },
   "outputs": [],
   "source": [
    "def greet_me(name):\n",
    "    print(\"Hello, Your Majesty, The Great and Powerful... \" + name + \".\")\n",
    "\n",
    "greet_me('Will Kessler')"
   ]
  },
  {
   "cell_type": "markdown",
   "metadata": {
    "graffitiCellId": "id_g5put1d",
    "graffitiConfig": {
     "rows": 6,
     "startingDirectory": "user_manual",
     "terminalId": "id_l5lqt4t",
     "type": "terminal"
    }
   },
   "source": [
    "<i>Loading terminal (id_g5put1d), please wait...</i>"
   ]
  },
  {
   "cell_type": "markdown",
   "metadata": {
    "graffitiCellId": "id_mri2acj"
   },
   "source": [
    "<span class=\"graffiti-highlight graffiti-id_mri2acj-id_4vpwxlz\"><i></i><button>Run Code</button></span>"
   ]
  }
 ],
 "metadata": {
  "graffiti": {
   "firstAuthorId": "dev",
   "id": "id_db42qkf",
   "language": "EN"
  },
  "kernelspec": {
   "display_name": "Python 3",
   "language": "python",
   "name": "python3"
  },
  "language_info": {
   "codemirror_mode": {
    "name": "ipython",
    "version": 3
   },
   "file_extension": ".py",
   "mimetype": "text/x-python",
   "name": "python",
   "nbconvert_exporter": "python",
   "pygments_lexer": "ipython3",
   "version": "3.7.3"
  }
 },
 "nbformat": 4,
 "nbformat_minor": 2
}
