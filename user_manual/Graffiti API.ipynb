{
 "cells": [
  {
   "cell_type": "markdown",
   "metadata": {},
   "source": [
    "# Using the Jupyter Graffiti API\n",
    "\n",
    "Jupyter Graffiti has a simple Python API you can use to control Graffiti from Python code. You can play back (and cancel playback) any Graffiti movies using the API. \n",
    "\n",
    "You can also execute some global activities on all Graffiti in a Notebook using the API."
   ]
  },
  {
   "cell_type": "markdown",
   "metadata": {},
   "source": [
    "### Accessing the API"
   ]
  },
  {
   "cell_type": "markdown",
   "metadata": {},
   "source": [
    "Whenever a Graffiti is selected (either click inside the code containing a Graffiti, or edit a markdown cell containing a Graffiti and click inside the Graffiti-ized text), the Graffiti Editor Panel will show a button labeled `Create Sample API Calls`. Click this button to add a cell below the cell containing the Graffiti you selected, with sample API calls shown in the cell (commented out). The Graffiti ID you need to call the API is shown."
   ]
  },
  {
   "cell_type": "markdown",
   "metadata": {},
   "source": [
    "For instance, clicking the `Create Sample API Calls` button can create a cell something like this:"
   ]
  },
  {
   "cell_type": "code",
   "execution_count": null,
   "metadata": {},
   "outputs": [],
   "source": [
    "# Graffiti Id: rilpp9b_3ipign7\n",
    "\n",
    "# --------------------------------------\n",
    "import jupytergraffiti\n",
    "# jupytergraffiti.api.play_recording('rilpp9b_3ipign7')\n",
    "# jupytergraffiti.api.play_recording_with_prompt('rilpp9b_3ipign7', '![idea](../images/lightbulb_small.jpg) Click **here** to learn more.')\n",
    "# jupytergraffiti.api.stop_playback()\n",
    "# jupytergraffiti.api.remove_unused_takes('rilpp9b_3ipign7')\n",
    "# jupytergraffiti.api.remove_all_unused_takes()"
   ]
  },
  {
   "cell_type": "markdown",
   "metadata": {},
   "source": [
    "In the data above, the Graffiti ID is `rilpp9b_3ipign7`. You can see that ID being used in several sample calls to the API. The table below lists all the API calls that are currently available to you.\n",
    "\n",
    "You call any API function by first `import jupytergraffiti` to bring in the API object, then use:\n",
    "\n",
    "`jupytergraffiti.api.<function>` to call the API.\n",
    "\n",
    "Note: if you are not using the Python kernel, the API will not work as it is written currently only in Python. If demand for it arises we would accept ports to other kernels (the API is relatively simple as it just calls exposed functions in the Javascript extension)."
   ]
  },
  {
   "cell_type": "markdown",
   "metadata": {},
   "source": [
    "### API Reference Table"
   ]
  },
  {
   "cell_type": "markdown",
   "metadata": {},
   "source": [
    "#### API Calls Controlling Graffiti Movie Playback\n",
    "\n",
    "| API Call | Description |       \n",
    "| -: |:--: |\n",
    "|`play_recording(<key>)`| Start playing the given Graffiti's movie (if it has one) from the beginning.| \n",
    "|`play_recording_with_prompt(<key>, <prompt>)`| Start playing the given Graffiti's movie (if it has one) from the beginning, but first show a prompt in the Graffiti Playback panel. A user click on that panel starts movie play. You may want to use this if you trigger a hint movie but don't want to make watching it obligatory.|\n",
    "|`stop_playback()`| If a Graffiti is currently playing, cancel playback.| "
   ]
  },
  {
   "cell_type": "markdown",
   "metadata": {},
   "source": [
    "#### API Calls Managing Graffiti More Broadly\n",
    "\n",
    "| API Call | Description |       \n",
    "| -: |:--: |\n",
    "|`remove_unused_takes(<key>)`| Remove any movie takes except the active take from the Graffiti data directory. This can save you a small amount of space especially if you've made many takes.| \n",
    "|`remove_all_unused_takes()`| Remove any movie takes except the active take from all Graffitis. This can save you a reasonable amount of space especially if you've made many takes over all movies.| \n",
    "|`remove_all_graffiti()`| Remove all Graffiti from this Notebook. You will be prompted to confirm.  After this call is done, be sure to save the Notebook and reload.|\n",
    "|`disable_graffiti()`| Remove all Graffiti from this Notebook and deactivate Graffiti as if you'd never activated it. You will be prompted to confirm. After this call is done, be sure to save the Notebook and reload.|\n",
    "|`transfer_graffiti()`| If you make a copy of a Notebook with Graffiti in it, make this API call to move all Graffiti to the new notebook and assign a new Graffiti ID to this notebook. Do this to prevent the two notebooks from overwriting each other's Graffiti.|\n",
    "|`package_graffiti()`|This call will create a tarball of the current notebook and its `jupytergraffiti_data` directory for transport. You can use this call but we recommend using `nbzip` instead, which ships with the Docker installation or is available on the Binder demo page.|\n"
   ]
  }
 ],
 "metadata": {
  "kernelspec": {
   "display_name": "Python 3",
   "language": "python",
   "name": "python3"
  },
  "language_info": {
   "codemirror_mode": {
    "name": "ipython",
    "version": 3
   },
   "file_extension": ".py",
   "mimetype": "text/x-python",
   "name": "python",
   "nbconvert_exporter": "python",
   "pygments_lexer": "ipython3",
   "version": "3.7.3"
  }
 },
 "nbformat": 4,
 "nbformat_minor": 2
}
