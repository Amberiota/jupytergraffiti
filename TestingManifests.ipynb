{
 "cells": [
  {
   "cell_type": "code",
   "execution_count": 1,
   "metadata": {
    "cellId": "id-6f4r7w7ey1h"
   },
   "outputs": [
    {
     "data": {
      "application/javascript": [
       "require(['jupytergraffiti/js/loader.js']);"
      ]
     },
     "metadata": {},
     "output_type": "display_data"
    }
   ],
   "source": [
    "import jupytergraffiti"
   ]
  },
  {
   "cell_type": "code",
   "execution_count": null,
   "metadata": {
    "cellId": "id-5z1mces4fal"
   },
   "outputs": [
    {
     "name": "stdout",
     "output_type": "stream",
     "text": [
      "bar\n",
      "smme\n"
     ]
    }
   ],
   "source": [
    "# test\n",
    "print('bar')\n",
    "print('smme')"
   ]
  },
  {
   "cell_type": "code",
   "execution_count": null,
   "metadata": {
    "cellId": "id-tv7hu30lz9e"
   },
   "outputs": [],
   "source": [
    "jupytergraffiti.api.play_recording('id-p3g3tatljy_id-arml7y9xu8u')\n",
    "#jupytergraffiti.api.set_access_level('author');"
   ]
  },
  {
   "cell_type": "code",
   "execution_count": null,
   "metadata": {
    "cellId": "id-j4xky7dlo0c"
   },
   "outputs": [],
   "source": [
    "import os\n",
    "os.system(\"mkdir -p recording_data/manifests/author/\")\n",
    "with open('recording_data/manifests/author/manifest_dsvcohq4fh6.json', 'w') as f:\n",
    "    f.write('{\"id-5z1mces4fal\":{\"id-rzp5vchpusq\":{\"cellId\":\"id-5z1mces4fal\",\"createDate\":1533015413484,\"inProgress\":true,\"tokens\":{\"start\":{\"type\":\"string\",\"string\":\"\\'bar\\'\",\"offset\":0},\"count\":1,\"allTokensString\":\"\\'bar\\'\"},\"markdown\":\"Enter your markdown for the annotation here and then click \\\"Save Annotation\\\" above.\\n\\'bar\\'\",\"author\":\"author\",\"hasMovie\":false}}}')\n",
    "    "
   ]
  },
  {
   "cell_type": "code",
   "execution_count": null,
   "metadata": {
    "cellId": "id-p3g3tatljy"
   },
   "outputs": [],
   "source": [
    "print('hello')"
   ]
  }
 ],
 "metadata": {
  "kernelspec": {
   "display_name": "Python 3",
   "language": "python",
   "name": "python3"
  },
  "language_info": {
   "codemirror_mode": {
    "name": "ipython",
    "version": 3
   },
   "file_extension": ".py",
   "mimetype": "text/x-python",
   "name": "python",
   "nbconvert_exporter": "python",
   "pygments_lexer": "ipython3",
   "version": "3.6.5"
  },
  "recordingId": "id-dsvcohq4fh6"
 },
 "nbformat": 4,
 "nbformat_minor": 2
}
